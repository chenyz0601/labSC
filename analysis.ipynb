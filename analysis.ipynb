{
 "cells": [
  {
   "cell_type": "code",
   "execution_count": 1,
   "metadata": {},
   "outputs": [],
   "source": [
    "import pandas as pd\n",
    "import numpy as np"
   ]
  },
  {
   "cell_type": "code",
   "execution_count": 2,
   "metadata": {},
   "outputs": [],
   "source": [
    "def print_group(group):\n",
    "    for key, item in group:\n",
    "        print(key)\n",
    "        print(group.get_group(key))"
   ]
  },
  {
   "cell_type": "code",
   "execution_count": 3,
   "metadata": {},
   "outputs": [],
   "source": [
    "def get_new_rate_perday(data, day, key):\n",
    "    tot = data[data[\"day\"] <= day][key].unique().shape[0]\n",
    "    before = data[data[\"day\"] < day][key].unique().shape[0]\n",
    "    cur = data[data[\"day\"] == day][key].unique().shape[0]\n",
    "    old = cur + before - tot\n",
    "    print(\"day {0}: num of \".format(day)+key+\" is {0} new rate is {1}\".format(cur, (cur-old)/cur))"
   ]
  },
  {
   "cell_type": "code",
   "execution_count": 4,
   "metadata": {},
   "outputs": [],
   "source": [
    "test = pd.read_csv(\"../../IJCAI2018-backup/data/raw_data/round1_ijcai_18_test_a_20180301.zip\", header=0, sep=\" \")"
   ]
  },
  {
   "cell_type": "code",
   "execution_count": 5,
   "metadata": {},
   "outputs": [],
   "source": [
    "train = pd.read_csv(\"../../IJCAI2018-backup/data/raw_data/round1_ijcai_18_train_20180301.zip\", compression=\"zip\", header=0, sep=\" \")"
   ]
  },
  {
   "cell_type": "code",
   "execution_count": 6,
   "metadata": {},
   "outputs": [],
   "source": [
    "labels = train.loc[:][\"is_trade\"]"
   ]
  },
  {
   "cell_type": "code",
   "execution_count": 7,
   "metadata": {},
   "outputs": [
    {
     "name": "stdout",
     "output_type": "stream",
     "text": [
      "trade rate is: 0.01886693799697995\n"
     ]
    }
   ],
   "source": [
    "print(\"trade rate is: {0}\".format(labels[labels==1].shape[0]/labels.shape[0]))"
   ]
  },
  {
   "cell_type": "code",
   "execution_count": 8,
   "metadata": {},
   "outputs": [],
   "source": [
    "t = pd.to_datetime(test['context_timestamp'], unit='s')\n",
    "test[\"hour\"] = t.dt.hour\n",
    "test[\"day\"] = t.dt.day\n",
    "t = pd.to_datetime(train['context_timestamp'], unit='s')\n",
    "train[\"hour\"] = t.dt.hour\n",
    "train[\"day\"] = t.dt.day"
   ]
  },
  {
   "cell_type": "code",
   "execution_count": 9,
   "metadata": {},
   "outputs": [],
   "source": [
    "data = pd.concat([train, test])"
   ]
  },
  {
   "cell_type": "code",
   "execution_count": 10,
   "metadata": {},
   "outputs": [],
   "source": [
    "icl = data[\"item_category_list\"].str.split(pat=\";\", expand=True)"
   ]
  },
  {
   "cell_type": "code",
   "execution_count": 11,
   "metadata": {},
   "outputs": [],
   "source": [
    "data[\"item_category_id\"] = icl[1]"
   ]
  },
  {
   "cell_type": "code",
   "execution_count": 12,
   "metadata": {},
   "outputs": [
    {
     "name": "stdout",
     "output_type": "stream",
     "text": [
      "[['user_id', 'user_gender_id', 'user_occupation_id', 'user_age_level'], ['day', 'hour', 'context_page_id'], ['item_id', 'item_brand_id', 'item_city_id', 'item_category_id'], ['shop_id']]\n"
     ]
    }
   ],
   "source": [
    "# try to do 2-bag feats\n",
    "cat_ = []\n",
    "user = [\"user_id\", \"user_gender_id\", \"user_occupation_id\", \"user_age_level\"]\n",
    "context = [\"day\", \"hour\", \"context_page_id\"]\n",
    "item = [\"item_id\", \"item_brand_id\", \"item_city_id\", \"item_category_id\"]\n",
    "shop = [\"shop_id\"]\n",
    "cat_.append(user)\n",
    "cat_.append(context)\n",
    "cat_.append(item)\n",
    "cat_.append(shop)\n",
    "print(cat_)"
   ]
  },
  {
   "cell_type": "markdown",
   "metadata": {},
   "source": [
    "从 categorical feats 提取 counts"
   ]
  },
  {
   "cell_type": "code",
   "execution_count": 13,
   "metadata": {},
   "outputs": [],
   "source": [
    "for lst in cat_:\n",
    "    for cat_feat in lst:\n",
    "        data[\"count_\"+cat_feat] = data.groupby(cat_feat)[cat_feat].transform(\"size\")"
   ]
  },
  {
   "cell_type": "code",
   "execution_count": 14,
   "metadata": {},
   "outputs": [
    {
     "data": {
      "text/plain": [
       "Index(['context_id', 'context_page_id', 'context_timestamp', 'day', 'hour',\n",
       "       'instance_id', 'is_trade', 'item_brand_id', 'item_category_list',\n",
       "       'item_city_id', 'item_collected_level', 'item_id', 'item_price_level',\n",
       "       'item_property_list', 'item_pv_level', 'item_sales_level',\n",
       "       'predict_category_property', 'shop_id', 'shop_review_num_level',\n",
       "       'shop_review_positive_rate', 'shop_score_delivery',\n",
       "       'shop_score_description', 'shop_score_service', 'shop_star_level',\n",
       "       'user_age_level', 'user_gender_id', 'user_id', 'user_occupation_id',\n",
       "       'user_star_level', 'item_category_id', 'count_user_id',\n",
       "       'count_user_gender_id', 'count_user_occupation_id',\n",
       "       'count_user_age_level', 'count_day', 'count_hour',\n",
       "       'count_context_page_id', 'count_item_id', 'count_item_brand_id',\n",
       "       'count_item_city_id', 'count_item_category_id', 'count_shop_id'],\n",
       "      dtype='object')"
      ]
     },
     "execution_count": 14,
     "metadata": {},
     "output_type": "execute_result"
    }
   ],
   "source": [
    "data.keys()"
   ]
  },
  {
   "cell_type": "markdown",
   "metadata": {},
   "source": [
    "从同一大类两两一组的 categorical feats 中提取 bag feats "
   ]
  },
  {
   "cell_type": "code",
   "execution_count": 18,
   "metadata": {},
   "outputs": [],
   "source": [
    "import itertools"
   ]
  },
  {
   "cell_type": "code",
   "execution_count": 23,
   "metadata": {},
   "outputs": [],
   "source": [
    "bag_feats_list = []\n",
    "for name1, name2 in itertools.combinations(context, 2):\n",
    "    name = \"bag_\"+name1+\"_\"+name2\n",
    "    bag_feats_list.append(name)\n",
    "    data[name] = data.groupby([name1, name2])[\"instance_id\"].transform(\"size\")\n",
    "\n",
    "for name1, name2 in itertools.combinations(item, 2):\n",
    "    name = \"bag_\"+name1+\"_\"+name2\n",
    "    bag_feats_list.append(name)\n",
    "    data[name] = data.groupby([name1, name2])[\"instance_id\"].transform(\"size\")"
   ]
  },
  {
   "cell_type": "markdown",
   "metadata": {},
   "source": [
    "从不同的两类中提取 bag feats"
   ]
  },
  {
   "cell_type": "code",
   "execution_count": 26,
   "metadata": {},
   "outputs": [],
   "source": [
    "for l1, l2 in itertools.combinations(cat_, 2):\n",
    "    for name1, name2 in itertools.product(l1, l2):\n",
    "        name = \"bag_\"+name1+\"_\"+name2\n",
    "        bag_feats_list.append(name)\n",
    "        data[name] = data.groupby([name1, name2])[\"instance_id\"].transform(\"size\")"
   ]
  },
  {
   "cell_type": "code",
   "execution_count": 33,
   "metadata": {},
   "outputs": [],
   "source": [
    "for l1, l2, l3 in itertools.combinations(cat_, 3):\n",
    "    for name1, name2, name3 in itertools.product(l1, l2, l3):\n",
    "        name = \"bag_\"+name1+\"_\"+name2+\"_\"+name3\n",
    "        bag_feats_list.append(name)\n",
    "        data[name] = data.groupby([name1, name2, name3])[\"instance_id\"].transform(\"size\")"
   ]
  },
  {
   "cell_type": "code",
   "execution_count": 35,
   "metadata": {},
   "outputs": [],
   "source": [
    "for name1, name2, name3 in itertools.combinations(context, 3):\n",
    "    name = \"bag_\"+name1+\"_\"+name2+\"_\"+name3\n",
    "    bag_feats_list.append(name)\n",
    "    data[name] = data.groupby([name1, name2, name3])[\"instance_id\"].transform(\"size\")\n",
    "\n",
    "for name1, name2, name3 in itertools.combinations(item, 3):\n",
    "    name = \"bag_\"+name1+\"_\"+name2+\"_\"+name3\n",
    "    bag_feats_list.append(name)\n",
    "    data[name] = data.groupby([name1, name2, name3])[\"instance_id\"].transform(\"size\")"
   ]
  },
  {
   "cell_type": "code",
   "execution_count": 36,
   "metadata": {},
   "outputs": [],
   "source": [
    "for name1 in user:\n",
    "    for name2, name3 in itertools.combinations(context, 2):\n",
    "        name = \"bag_\"+name1+\"_\"+name2+\"_\"+name3\n",
    "        bag_feats_list.append(name)\n",
    "        data[name] = data.groupby([name1, name2, name3])[\"instance_id\"].transform(\"size\")\n",
    "        \n",
    "for name1 in user:\n",
    "    for name2, name3 in itertools.combinations(item, 2):\n",
    "        name = \"bag_\"+name1+\"_\"+name2+\"_\"+name3\n",
    "        bag_feats_list.append(name)\n",
    "        data[name] = data.groupby([name1, name2, name3])[\"instance_id\"].transform(\"size\")\n",
    "        \n",
    "for name1 in shop:\n",
    "    for name2, name3 in itertools.combinations(context, 2):\n",
    "        name = \"bag_\"+name1+\"_\"+name2+\"_\"+name3\n",
    "        bag_feats_list.append(name)\n",
    "        data[name] = data.groupby([name1, name2, name3])[\"instance_id\"].transform(\"size\")\n",
    "        \n",
    "for name1 in shop:\n",
    "    for name2, name3 in itertools.combinations(item, 2):\n",
    "        name = \"bag_\"+name1+\"_\"+name2+\"_\"+name3\n",
    "        bag_feats_list.append(name)\n",
    "        data[name] = data.groupby([name1, name2, name3])[\"instance_id\"].transform(\"size\")\n",
    "        \n",
    "for name1 in item:\n",
    "    for name2, name3 in itertools.combinations(context, 2):\n",
    "        name = \"bag_\"+name1+\"_\"+name2+\"_\"+name3\n",
    "        bag_feats_list.append(name)\n",
    "        data[name] = data.groupby([name1, name2, name3])[\"instance_id\"].transform(\"size\")\n",
    "        \n",
    "for name1 in context:\n",
    "    for name2, name3 in itertools.combinations(item, 2):\n",
    "        name = \"bag_\"+name1+\"_\"+name2+\"_\"+name3\n",
    "        bag_feats_list.append(name)\n",
    "        data[name] = data.groupby([name1, name2, name3])[\"instance_id\"].transform(\"size\")"
   ]
  },
  {
   "cell_type": "code",
   "execution_count": 41,
   "metadata": {},
   "outputs": [],
   "source": [
    "count_feats_list = []\n",
    "for lst in cat_:\n",
    "    for cat_feat in lst:\n",
    "        count_feats_list.append(\"count_\"+cat_feat)"
   ]
  },
  {
   "cell_type": "code",
   "execution_count": 59,
   "metadata": {},
   "outputs": [],
   "source": [
    "_train = data.iloc[:train.shape[0], :]\n",
    "_valid = _train[_train[\"day\"]==24]\n",
    "_train = _train[_train[\"day\"]<24]"
   ]
  },
  {
   "cell_type": "code",
   "execution_count": 70,
   "metadata": {},
   "outputs": [],
   "source": [
    "_test = data.iloc[train.shape[0]:, :]\n",
    "_test = _test.drop(\"is_trade\", axis=1)"
   ]
  },
  {
   "cell_type": "code",
   "execution_count": 84,
   "metadata": {},
   "outputs": [],
   "source": [
    "bags_train_np = np.asarray(_train[bag_feats_list].apply(pd.to_numeric))\n",
    "counts_train_np = np.asarray(_train[count_feats_list].apply(pd.to_numeric))\n",
    "dense_train_np = np.asarray(_train[dense_list].apply(pd.to_numeric))"
   ]
  },
  {
   "cell_type": "code",
   "execution_count": 80,
   "metadata": {},
   "outputs": [],
   "source": [
    "dense_list=['item_price_level',\n",
    "                             'item_sales_level', \n",
    "                             'item_collected_level',\n",
    "                             'item_pv_level', \n",
    "                             'user_age_level', \n",
    "                             'user_star_level',\n",
    "                             'shop_review_num_level', \n",
    "                             'shop_star_level',\n",
    "                             'day',\n",
    "                             'hour',\n",
    "                             'context_page_id',\n",
    "                             'shop_review_positive_rate',\n",
    "                             'shop_score_service',\n",
    "                             'shop_score_delivery',\n",
    "                             'shop_score_description']"
   ]
  },
  {
   "cell_type": "code",
   "execution_count": 85,
   "metadata": {},
   "outputs": [],
   "source": [
    "bags_valid_np = np.asarray(_valid[bag_feats_list].apply(pd.to_numeric))\n",
    "counts_valid_np = np.asarray(_valid[count_feats_list].apply(pd.to_numeric))\n",
    "dense_valid_np = np.asarray(_valid[dense_list].apply(pd.to_numeric))"
   ]
  },
  {
   "cell_type": "code",
   "execution_count": 86,
   "metadata": {},
   "outputs": [],
   "source": [
    "bags_test_np = np.asarray(_test[bag_feats_list].apply(pd.to_numeric))\n",
    "counts_test_np = np.asarray(_test[count_feats_list].apply(pd.to_numeric))\n",
    "dense_test_np = np.asarray(_test[dense_list].apply(pd.to_numeric))"
   ]
  },
  {
   "cell_type": "code",
   "execution_count": 93,
   "metadata": {},
   "outputs": [],
   "source": [
    "valid_np = np.concatenate([bags_valid_np, counts_valid_np, dense_valid_np], 1)\n",
    "np.save(\"../../IJCAI2018/prep_bag/valid\", valid_np)"
   ]
  },
  {
   "cell_type": "code",
   "execution_count": 92,
   "metadata": {},
   "outputs": [],
   "source": [
    "train_np = np.concatenate([bags_train_np, counts_train_np, dense_train_np], 1)\n",
    "np.save(\"../../IJCAI2018/prep_bag/train\", train_np)"
   ]
  },
  {
   "cell_type": "code",
   "execution_count": 94,
   "metadata": {},
   "outputs": [],
   "source": [
    "test_np = np.concatenate([bags_test_np, counts_test_np, dense_test_np], 1)\n",
    "np.save(\"../../IJCAI2018/prep_bag/test\", test_np)"
   ]
  },
  {
   "cell_type": "code",
   "execution_count": 95,
   "metadata": {},
   "outputs": [],
   "source": [
    "train_labels = np.asarray(_train[\"is_trade\"].apply(pd.to_numeric))\n",
    "np.save(\"../../IJCAI2018/prep_bag/train_labels\", train_labels)"
   ]
  },
  {
   "cell_type": "code",
   "execution_count": 96,
   "metadata": {},
   "outputs": [],
   "source": [
    "valid_labels = np.asarray(_valid[\"is_trade\"].apply(pd.to_numeric))\n",
    "np.save(\"../../IJCAI2018/prep_bag/valid_labels\", valid_labels)"
   ]
  },
  {
   "cell_type": "code",
   "execution_count": 97,
   "metadata": {},
   "outputs": [
    {
     "data": {
      "text/plain": [
       "(52528,)"
      ]
     },
     "execution_count": 97,
     "metadata": {},
     "output_type": "execute_result"
    }
   ],
   "source": [
    "valid_labels.shape"
   ]
  },
  {
   "cell_type": "code",
   "execution_count": null,
   "metadata": {},
   "outputs": [],
   "source": []
  },
  {
   "cell_type": "code",
   "execution_count": null,
   "metadata": {},
   "outputs": [],
   "source": []
  },
  {
   "cell_type": "code",
   "execution_count": 10,
   "metadata": {},
   "outputs": [
    {
     "data": {
      "text/plain": [
       "array([18, 17, 20, 21, 19, 22, 23, 24, 25])"
      ]
     },
     "execution_count": 10,
     "metadata": {},
     "output_type": "execute_result"
    }
   ],
   "source": [
    "data[\"day\"].unique()"
   ]
  },
  {
   "cell_type": "code",
   "execution_count": null,
   "metadata": {},
   "outputs": [],
   "source": []
  },
  {
   "cell_type": "code",
   "execution_count": null,
   "metadata": {},
   "outputs": [],
   "source": []
  },
  {
   "cell_type": "code",
   "execution_count": 11,
   "metadata": {},
   "outputs": [],
   "source": [
    "num_user_test = test[\"user_id\"].unique().shape[0]\n",
    "num_user_train = train[\"user_id\"].unique().shape[0]"
   ]
  },
  {
   "cell_type": "code",
   "execution_count": 12,
   "metadata": {},
   "outputs": [
    {
     "name": "stdout",
     "output_type": "stream",
     "text": [
      "per user click of test: 1.353495910999779, train: 2.418576183394539\n"
     ]
    }
   ],
   "source": [
    "print(\"per user click of test: {0}, train: {1}\".format(test.shape[0] / num_user_test, train.shape[0] / num_user_train))"
   ]
  },
  {
   "cell_type": "markdown",
   "metadata": {},
   "source": [
    "观察1： train 中平均用户点击数比 test 中大很多, 可能也是因为最后一天新用户比较多，感觉影响不大"
   ]
  },
  {
   "cell_type": "code",
   "execution_count": 13,
   "metadata": {},
   "outputs": [
    {
     "name": "stdout",
     "output_type": "stream",
     "text": [
      "day 17: num of user_id is 3479 new rate is 1.0\n",
      "day 18: num of user_id is 37225 new rate is 0.9871591672263264\n",
      "day 19: num of user_id is 34063 new rate is 0.9080233684643161\n",
      "day 20: num of user_id is 32985 new rate is 0.8675155373654692\n",
      "day 21: num of user_id is 34170 new rate is 0.8453321627158326\n",
      "day 22: num of user_id is 32603 new rate is 0.8172254087047204\n",
      "day 23: num of user_id is 29767 new rate is 0.7819733261665602\n",
      "day 24: num of user_id is 26246 new rate is 0.7557723081612436\n",
      "day 25: num of user_id is 12577 new rate is 0.7337202830563727\n",
      "day 17: num of user_occupation_id is 5 new rate is 1.0\n",
      "day 18: num of user_occupation_id is 5 new rate is 0.0\n",
      "day 19: num of user_occupation_id is 5 new rate is 0.0\n",
      "day 20: num of user_occupation_id is 5 new rate is 0.0\n",
      "day 21: num of user_occupation_id is 5 new rate is 0.0\n",
      "day 22: num of user_occupation_id is 5 new rate is 0.0\n",
      "day 23: num of user_occupation_id is 5 new rate is 0.0\n",
      "day 24: num of user_occupation_id is 5 new rate is 0.0\n",
      "day 25: num of user_occupation_id is 5 new rate is 0.0\n",
      "day 17: num of item_id is 2006 new rate is 1.0\n",
      "day 18: num of item_id is 5973 new rate is 0.7026619789050729\n",
      "day 19: num of item_id is 5788 new rate is 0.20421561852107808\n",
      "day 20: num of item_id is 5602 new rate is 0.13120314173509462\n",
      "day 21: num of item_id is 5724 new rate is 0.10639412997903563\n",
      "day 22: num of item_id is 5587 new rate is 0.08000715947735815\n",
      "day 23: num of item_id is 5501 new rate is 0.08652972186875113\n",
      "day 24: num of item_id is 5388 new rate is 0.08110616184112843\n",
      "day 25: num of item_id is 3529 new rate is 0.04165485973363559\n",
      "day 17: num of item_brand_id is 754 new rate is 1.0\n",
      "day 18: num of item_brand_id is 1479 new rate is 0.5185936443542934\n",
      "day 19: num of item_brand_id is 1463 new rate is 0.12303485987696514\n",
      "day 20: num of item_brand_id is 1399 new rate is 0.06933523945675482\n",
      "day 21: num of item_brand_id is 1412 new rate is 0.05524079320113314\n",
      "day 22: num of item_brand_id is 1407 new rate is 0.03837953091684435\n",
      "day 23: num of item_brand_id is 1377 new rate is 0.04066811909949165\n",
      "day 24: num of item_brand_id is 1382 new rate is 0.05137481910274964\n",
      "day 25: num of item_brand_id is 1067 new rate is 0.016869728209934397\n",
      "day 17: num of item_city_id is 77 new rate is 1.0\n",
      "day 18: num of item_city_id is 116 new rate is 0.3448275862068966\n",
      "day 19: num of item_city_id is 117 new rate is 0.042735042735042736\n",
      "day 20: num of item_city_id is 112 new rate is 0.017857142857142856\n",
      "day 21: num of item_city_id is 114 new rate is 0.03508771929824561\n",
      "day 22: num of item_city_id is 110 new rate is 0.0\n",
      "day 23: num of item_city_id is 110 new rate is 0.0\n",
      "day 24: num of item_city_id is 113 new rate is 0.0\n",
      "day 25: num of item_city_id is 96 new rate is 0.0\n",
      "day 17: num of shop_id is 1263 new rate is 1.0\n",
      "day 18: num of shop_id is 2805 new rate is 0.5853832442067736\n",
      "day 19: num of shop_id is 2749 new rate is 0.13132048017460896\n",
      "day 20: num of shop_id is 2676 new rate is 0.07847533632286996\n",
      "day 21: num of shop_id is 2712 new rate is 0.056784660766961655\n",
      "day 22: num of shop_id is 2667 new rate is 0.04049493813273341\n",
      "day 23: num of shop_id is 2576 new rate is 0.04076086956521739\n",
      "day 24: num of shop_id is 2583 new rate is 0.04645760743321719\n",
      "day 25: num of shop_id is 1932 new rate is 0.020703933747412008\n",
      "day 17: num of context_id is 6659 new rate is 1.0\n",
      "day 18: num of context_id is 77487 new rate is 1.0\n",
      "day 19: num of context_id is 70454 new rate is 1.0\n",
      "day 20: num of context_id is 68678 new rate is 1.0\n",
      "day 21: num of context_id is 71232 new rate is 1.0\n",
      "day 22: num of context_id is 68210 new rate is 1.0\n",
      "day 23: num of context_id is 62866 new rate is 1.0\n",
      "day 24: num of context_id is 53863 new rate is 1.0\n",
      "day 25: num of context_id is 17033 new rate is 1.0\n"
     ]
    }
   ],
   "source": [
    "for key in [\"user_id\", \"user_occupation_id\", \"item_id\", \"item_brand_id\", \"item_city_id\", \"shop_id\", \"context_id\"]:\n",
    "    for day in range(17,26): \n",
    "        get_new_rate_perday(data, day, key)"
   ]
  },
  {
   "cell_type": "markdown",
   "metadata": {},
   "source": [
    "观察2： 每天新用户出现的概率都很高, 并且出现其他新项目的概率很低， context_id 没有重复， user_id 可以换成 count 来减小维度, context_id可以扔掉"
   ]
  },
  {
   "cell_type": "markdown",
   "metadata": {},
   "source": [
    "尝试做 bag feats"
   ]
  },
  {
   "cell_type": "code",
   "execution_count": 14,
   "metadata": {},
   "outputs": [],
   "source": [
    "user_day_train = train.groupby([\"user_id\", \"day\"])\n",
    "user_day_hour_train = train.groupby([\"user_id\", \"day\", \"hour\"])\n",
    "user_item_train = train.groupby([\"user_id\", \"item_id\"])\n",
    "user_shop_train = train.groupby([\"user_id\", \"shop_id\"])\n",
    "user_brand_train = train.groupby([\"user_id\", \"item_brand_id\"])\n",
    "user_context_train = train.groupby([\"user_id\", \"context_id\"])\n",
    "item_context_train = train.groupby([\"item_id\", \"context_id\"])\n",
    "item_page_train = train.groupby([\"item_id\", \"context_page_id\"])"
   ]
  },
  {
   "cell_type": "code",
   "execution_count": 15,
   "metadata": {
    "scrolled": true
   },
   "outputs": [
    {
     "data": {
      "text/plain": [
       "(415989, 29)"
      ]
     },
     "execution_count": 15,
     "metadata": {},
     "output_type": "execute_result"
    }
   ],
   "source": [
    "train[user_item_train[\"instance_id\"].transform(\"size\") == 1].shape"
   ]
  },
  {
   "cell_type": "code",
   "execution_count": 16,
   "metadata": {},
   "outputs": [
    {
     "data": {
      "text/plain": [
       "(364795, 29)"
      ]
     },
     "execution_count": 16,
     "metadata": {},
     "output_type": "execute_result"
    }
   ],
   "source": [
    "train[user_brand_train[\"instance_id\"].transform(\"size\") == 1].shape"
   ]
  },
  {
   "cell_type": "code",
   "execution_count": 17,
   "metadata": {},
   "outputs": [],
   "source": [
    "# try to do 2-bag feats\n",
    "user = [\"user_id\", \"user_gender_id\", \"user_occupation_id\", \"user_age_level\"]\n",
    "context = [\"day\", \"hour\", \"context_page_id\"]\n",
    "item = [\"item_id\", \"item_brand_id\", \"item_city_id\"]\n",
    "shop = [\"shop_id\"]"
   ]
  },
  {
   "cell_type": "code",
   "execution_count": 18,
   "metadata": {},
   "outputs": [],
   "source": [
    "import itertools"
   ]
  },
  {
   "cell_type": "code",
   "execution_count": 19,
   "metadata": {},
   "outputs": [],
   "source": [
    "# for keys in itertools.product(user, item):\n",
    "#     name = keys[0]+\"_\"+keys[1]\n",
    "#     train[name] = train.groupby(list(keys))[\"instance_id\"].transform(\"size\")\n",
    "# for keys in itertools.product(user, context):\n",
    "#     name = keys[0]+\"_\"+keys[1]\n",
    "#     train[name] = train.groupby(list(keys))[\"instance_id\"].transform(\"size\")\n",
    "# for keys in itertools.product(user, shop):\n",
    "#     name = keys[0]+\"_\"+keys[1]\n",
    "#     train[name] = train.groupby(list(keys))[\"instance_id\"].transform(\"size\")\n",
    "for keys in itertools.product(item, context):\n",
    "    name = keys[0]+\"_\"+keys[1]\n",
    "    train[name] = train.groupby(list(keys))[\"instance_id\"].transform(\"size\")"
   ]
  },
  {
   "cell_type": "code",
   "execution_count": 20,
   "metadata": {},
   "outputs": [
    {
     "name": "stdout",
     "output_type": "stream",
     "text": [
      "('item_id', 'item_brand_id')\n",
      "('item_id', 'item_city_id')\n",
      "('item_brand_id', 'item_city_id')\n"
     ]
    }
   ],
   "source": [
    "for i in itertools.combinations(item, 2):\n",
    "    print(i)"
   ]
  },
  {
   "cell_type": "markdown",
   "metadata": {},
   "source": [
    "比较 train 和 test 的 icl"
   ]
  },
  {
   "cell_type": "code",
   "execution_count": 21,
   "metadata": {},
   "outputs": [],
   "source": [
    "icl_train = train[\"item_category_list\"].str.split(pat=\";\", expand=True)"
   ]
  },
  {
   "cell_type": "code",
   "execution_count": 22,
   "metadata": {},
   "outputs": [],
   "source": [
    "icl_test = test[\"item_category_list\"].str.split(pat=\";\", expand=True)"
   ]
  },
  {
   "cell_type": "markdown",
   "metadata": {},
   "source": [
    "观察3： train 和 test 的分类目录完全相同"
   ]
  },
  {
   "cell_type": "code",
   "execution_count": 23,
   "metadata": {},
   "outputs": [
    {
     "name": "stdout",
     "output_type": "stream",
     "text": [
      "True\n",
      "True\n",
      "True\n"
     ]
    }
   ],
   "source": [
    "print(set(icl[0].unique()) == set(icl_test[0].unique()))\n",
    "print(set(icl[1].unique()) == set(icl_test[1].unique()))\n",
    "print(set(icl[2].unique()) == set(icl_test[2].unique()))"
   ]
  },
  {
   "cell_type": "code",
   "execution_count": 24,
   "metadata": {},
   "outputs": [
    {
     "name": "stdout",
     "output_type": "stream",
     "text": [
      "None\n",
      "train: 0.0, trade rate: 0.0\n",
      "test: 0.0\n",
      "8868887661186419229\n",
      "train: 0.0039862968431708, trade rate: 0.0039862968431708\n",
      "test: 0.0040825213651951445\n",
      "6233669177166538628\n",
      "train: 0.0002572479075078743, trade rate: 0.0002572479075078743\n",
      "test: 0.00021773447281040771\n"
     ]
    }
   ],
   "source": [
    "for i in icl[2].unique():\n",
    "    print(i)\n",
    "    print(\"train: {0}, trade rate: {1}\".format(icl[icl[2] == i].shape[0] / icl.shape[0], labels[icl[2] == i].shape[0]/labels.shape[0]))\n",
    "    print(\"test: {0}\".format(icl_test[icl_test[2] == i].shape[0] / icl_test.shape[0]))"
   ]
  },
  {
   "cell_type": "markdown",
   "metadata": {},
   "source": [
    "观察4： train 和 test 的最细层目录分类分布基本一样, 而且都特别少, 同时 trade rate 也没有贡献，可以扔掉"
   ]
  },
  {
   "cell_type": "code",
   "execution_count": 25,
   "metadata": {},
   "outputs": [
    {
     "name": "stdout",
     "output_type": "stream",
     "text": [
      "5799347067982556520\n",
      "train: 0.15062387846186664\n",
      "test: 0.14838604322029286\n",
      "8277336076276184272\n",
      "train: 0.3153461971230063\n",
      "test: 0.33193620379946653\n",
      "5755694407684602296\n",
      "train: 0.2143648904709519\n",
      "test: 0.21953078221109357\n",
      "4879721024980945592\n",
      "train: 0.002524375807821173\n",
      "test: 0.002993849001143106\n",
      "509660095530134768\n",
      "train: 0.1577368876767795\n",
      "test: 0.15959936857002885\n",
      "2436715285093487584\n",
      "train: 0.004111783627320982\n",
      "test: 0.003919220510587339\n",
      "7258015885215914736\n",
      "train: 0.11096168888479895\n",
      "test: 0.07969081704860922\n",
      "8710739180200009128\n",
      "train: 0.014815806315331557\n",
      "test: 0.016547819933590984\n",
      "2011981573061447208\n",
      "train: 0.020000501947136602\n",
      "test: 0.02030373958957052\n",
      "22731265849056483\n",
      "train: 0.00018404728342026779\n",
      "test: 0.00010886723640520386\n",
      "3203673979138763595\n",
      "train: 0.0046973886200218345\n",
      "test: 0.01213869685918023\n",
      "2642175453151805566\n",
      "train: 0.004243544750678675\n",
      "test: 0.004300255838005552\n",
      "1968056100269760729\n",
      "train: 0.000389009030865566\n",
      "test: 0.0005443361820260192\n"
     ]
    }
   ],
   "source": [
    "for i in icl[1].unique():\n",
    "    print(i)\n",
    "    print(\"train: {0}\".format(icl[icl[1] == i].shape[0] / icl.shape[0]))\n",
    "    print(\"test: {0}\".format(icl_test[icl_test[1] == i].shape[0] / icl_test.shape[0]))"
   ]
  },
  {
   "cell_type": "markdown",
   "metadata": {},
   "source": [
    "第二层级目录的分布也基本一样， 保留这一层目录， 可以作为普通的categorical feats 做count 和 bag"
   ]
  },
  {
   "cell_type": "code",
   "execution_count": 26,
   "metadata": {},
   "outputs": [],
   "source": [
    "ipl = train[\"item_property_list\"].str.split(pat=\";\", expand=True)\n",
    "ipl_test = test[\"item_property_list\"].str.split(pat=\";\", expand=True)"
   ]
  },
  {
   "cell_type": "code",
   "execution_count": 39,
   "metadata": {},
   "outputs": [],
   "source": [
    "ipl = ipl.fillna(-1)"
   ]
  },
  {
   "cell_type": "markdown",
   "metadata": {},
   "source": [
    "对 ipl 做 \"n_hot\""
   ]
  },
  {
   "cell_type": "code",
   "execution_count": 27,
   "metadata": {},
   "outputs": [],
   "source": [
    "from sklearn.preprocessing import LabelEncoder, OneHotEncoder"
   ]
  },
  {
   "cell_type": "code",
   "execution_count": 67,
   "metadata": {},
   "outputs": [],
   "source": [
    "ipl_ = ipl.apply(lambda x: x.str[-3:])"
   ]
  },
  {
   "cell_type": "code",
   "execution_count": 72,
   "metadata": {},
   "outputs": [],
   "source": [
    "ipl_ = ipl_.fillna(-1)"
   ]
  },
  {
   "cell_type": "code",
   "execution_count": 92,
   "metadata": {},
   "outputs": [],
   "source": [
    "values = np.array(ipl_.apply(pd.to_numeric))\n",
    "label_encoder = LabelEncoder()\n",
    "integer_encoded = label_encoder.fit_transform(values.flatten())\n",
    "# binary encode\n",
    "onehot_encoder = OneHotEncoder(sparse=True)\n",
    "integer_encoded = integer_encoded.reshape(integer_encoded.shape[0], 1)\n",
    "onehot_encoded = onehot_encoder.fit_transform(integer_encoded)"
   ]
  },
  {
   "cell_type": "code",
   "execution_count": 93,
   "metadata": {},
   "outputs": [
    {
     "data": {
      "text/plain": [
       "(47813800, 1001)"
      ]
     },
     "execution_count": 93,
     "metadata": {},
     "output_type": "execute_result"
    }
   ],
   "source": [
    "onehot_encoded.shape"
   ]
  },
  {
   "cell_type": "code",
   "execution_count": 94,
   "metadata": {},
   "outputs": [],
   "source": [
    "ipl_one_hot = onehot_encoded[478138:]"
   ]
  },
  {
   "cell_type": "code",
   "execution_count": 95,
   "metadata": {},
   "outputs": [
    {
     "data": {
      "text/plain": [
       "(47335662, 1001)"
      ]
     },
     "execution_count": 95,
     "metadata": {},
     "output_type": "execute_result"
    }
   ],
   "source": [
    "ipl_one_hot.shape"
   ]
  },
  {
   "cell_type": "code",
   "execution_count": 97,
   "metadata": {},
   "outputs": [
    {
     "data": {
      "text/plain": [
       "Index(['context_id', 'context_page_id', 'context_timestamp', 'day', 'hour',\n",
       "       'instance_id', 'is_trade', 'item_brand_id', 'item_category_list',\n",
       "       'item_city_id', 'item_collected_level', 'item_id', 'item_price_level',\n",
       "       'item_property_list', 'item_pv_level', 'item_sales_level',\n",
       "       'predict_category_property', 'shop_id', 'shop_review_num_level',\n",
       "       'shop_review_positive_rate', 'shop_score_delivery',\n",
       "       'shop_score_description', 'shop_score_service', 'shop_star_level',\n",
       "       'user_age_level', 'user_gender_id', 'user_id', 'user_occupation_id',\n",
       "       'user_star_level'],\n",
       "      dtype='object')"
      ]
     },
     "execution_count": 97,
     "metadata": {},
     "output_type": "execute_result"
    }
   ],
   "source": [
    "data.keys()"
   ]
  },
  {
   "cell_type": "code",
   "execution_count": null,
   "metadata": {},
   "outputs": [],
   "source": []
  }
 ],
 "metadata": {
  "kernelspec": {
   "display_name": "Python 3",
   "language": "python",
   "name": "python3"
  },
  "language_info": {
   "codemirror_mode": {
    "name": "ipython",
    "version": 3
   },
   "file_extension": ".py",
   "mimetype": "text/x-python",
   "name": "python",
   "nbconvert_exporter": "python",
   "pygments_lexer": "ipython3",
   "version": "3.6.4"
  }
 },
 "nbformat": 4,
 "nbformat_minor": 2
}
